{
 "cells": [
  {
   "cell_type": "code",
   "execution_count": null,
   "id": "79dad5b3",
   "metadata": {},
   "outputs": [],
   "source": [
    "import numpy as np # linear algebra\n",
    "import pandas as pd # data processing, CSV file I/O (e.g. pd.read_csv)\n",
    "import tensorflow as tf\n",
    "from PIL import Image\n",
    "\n",
    "df_train = pd.read_csv(\"data/train.csv\")\n",
    "df_test = pd.read_csv(\"data/test.csv\")\n",
    "train = tf.random.shuffle(df_train)\n",
    "x_train = tf.reshape(train[:, 1:], (len(train), 28, 28, 1))\n",
    "x_train = x_train/255\n",
    "x_val = x_train[40000:]\n",
    "x_train = x_train[:40000]\n",
    "x_test = tf.reshape(df_test, (len(df_test), 28, 28, 1))\n",
    "x_test = x_test/255\n",
    "y_train = tf.one_hot(train[:, 0], 10)\n",
    "y_val = y_train[40000:]\n",
    "y_train = y_train[:40000]\n",
    "model = tf.keras.Sequential(\n",
    "    [\n",
    "        tf.keras.layers.RandomRotation(0.2),\n",
    "        tf.keras.layers.Conv2D(64, (3, 3), activation='relu'),\n",
    "        tf.keras.layers.Conv2D(128, (3, 3), activation='relu'),\n",
    "        tf.keras.layers.MaxPool2D((2, 2)),\n",
    "        tf.keras.layers.Flatten(),\n",
    "        tf.keras.layers.Dense(128, activation=\"relu\"),\n",
    "        tf.keras.layers.Dense(64, activation=\"relu\"),\n",
    "        tf.keras.layers.Dense(10, activation='softmax'),\n",
    "    ]\n",
    ")\n",
    "model.compile(optimizer=tf.keras.optimizers.Adam(),\n",
    "              loss=tf.keras.losses.CategoricalCrossentropy(),\n",
    "              metrics=['accuracy'])\n",
    "\n",
    "class MyCallback(tf.keras.callbacks.Callback):\n",
    "    def on_epoch_end(self, epochs, logs={}):\n",
    "        if logs.get('loss') < 0.006:\n",
    "            print(\"\\n reached loss=0.006, hence stopped training!!\")\n",
    "            self.model.stop_training = True\n",
    "\n",
    "callbacks = MyCallback()\n",
    "model.fit(x_train, y_train, epochs=20, validation_data=(x_val, y_val), callbacks=[callbacks])\n",
    "output = tf.argmax(model.predict(x_test), axis=1)\n",
    "output = {\"ImageId\": list(range(1, 28001)), \"Label\": output}\n",
    "output = pd.DataFrame(output)\n",
    "output.to_csv(\"submit.csv\", index=False)\n"
   ]
  },
  {
   "cell_type": "code",
   "execution_count": 1,
   "id": "6d9d0335",
   "metadata": {},
   "outputs": [],
   "source": [
    "import numpy as np\n",
    "import pandas as pd\n",
    "import tensorflow as tf\n",
    "from PIL import Image"
   ]
  },
  {
   "cell_type": "code",
   "execution_count": 2,
   "id": "38ffbece",
   "metadata": {},
   "outputs": [
    {
     "data": {
      "text/plain": [
       "'2.7.0'"
      ]
     },
     "execution_count": 2,
     "metadata": {},
     "output_type": "execute_result"
    }
   ],
   "source": [
    "tf.__version__"
   ]
  },
  {
   "cell_type": "code",
   "execution_count": null,
   "id": "ded1357f",
   "metadata": {},
   "outputs": [],
   "source": [
    "df_train = pd.read_csv(\"data/train.csv\")\n",
    "df_test = pd.read_csv(\"data/test.csv\")\n",
    "train = tf.random.shuffle(df_train)\n",
    "x_train = tf.reshape(train[:, 1:], (len(train), 28, 28, 1))\n",
    "x_train = x_train/255\n",
    "x_val = x_train[40000:]\n",
    "x_train = x_train[:40000]\n",
    "x_test = tf.reshape(df_test, (len(df_test), 28, 28, 1))\n",
    "x_test = x_test/255\n",
    "y_train = tf.one_hot(train[:, 0], 10)\n",
    "y_val = y_train[40000:]\n",
    "y_train = y_train[:40000]\n",
    "model = tf.keras.Sequential(\n",
    "    [\n",
    "        tf.keras.layers.RandomRotation(0.2),\n",
    "        tf.keras.layers.Conv2D(64, (3, 3), activation='relu'),\n",
    "        tf.keras.layers.Conv2D(128, (3, 3), activation='relu'),\n",
    "        tf.keras.layers.MaxPool2D((2, 2)),\n",
    "        tf.keras.layers.Flatten(),\n",
    "        tf.keras.layers.Dense(128, activation=\"relu\"),\n",
    "        tf.keras.layers.Dense(64, activation=\"relu\"),\n",
    "        tf.keras.layers.Dense(10, activation='softmax'),\n",
    "    ]\n",
    ")\n",
    "model.compile(optimizer=tf.keras.optimizers.Adam(),\n",
    "              loss=tf.keras.losses.CategoricalCrossentropy(),\n",
    "              metrics=['accuracy'])\n",
    "\n",
    "class MyCallback(tf.keras.callbacks.Callback):\n",
    "    def on_epoch_end(self, epochs, logs={}):\n",
    "        if logs.get('loss') < 0.006:\n",
    "            print(\"\\n reached loss=0.006, hence stopped training!!\")\n",
    "            self.model.stop_training = True\n",
    "\n",
    "callbacks = MyCallback()\n",
    "model.fit(x_train, y_train, epochs=20, validation_data=(x_val, y_val), callbacks=[callbacks])\n",
    "output = tf.argmax(model.predict(x_test), axis=1)"
   ]
  }
 ],
 "metadata": {
  "kernelspec": {
   "display_name": "Python 3 (ipykernel)",
   "language": "python",
   "name": "python3"
  },
  "language_info": {
   "codemirror_mode": {
    "name": "ipython",
    "version": 3
   },
   "file_extension": ".py",
   "mimetype": "text/x-python",
   "name": "python",
   "nbconvert_exporter": "python",
   "pygments_lexer": "ipython3",
   "version": "3.9.9"
  }
 },
 "nbformat": 4,
 "nbformat_minor": 5
}
